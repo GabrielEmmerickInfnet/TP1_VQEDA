{
 "cells": [
  {
   "cell_type": "code",
   "execution_count": 1,
   "id": "cc628f18-0feb-4b96-997b-0175f4233de2",
   "metadata": {},
   "outputs": [
    {
     "name": "stdout",
     "output_type": "stream",
     "text": [
      "['S', 'í', 't', 'i', 'o', 'd', 'o', 'p', 'i', 'c', 'a', '-', 'p', 'a', 'u', 'a', 'm', 'a', 'r', 'e', 'l', 'o', '2', '0', '2', '3']\n"
     ]
    }
   ],
   "source": [
    "# Exercicio 1\n",
    "string = \"Sítio do pica-pau amarelo \\n 2023\"\n",
    "# List comprehension para obter caracteres\n",
    "result = [char for char in string if not char.isspace()]\n",
    "print(result)"
   ]
  },
  {
   "cell_type": "code",
   "execution_count": 1,
   "id": "fc827ecf-162a-477b-bbd7-1762186c5db5",
   "metadata": {},
   "outputs": [
    {
     "name": "stdout",
     "output_type": "stream",
     "text": [
      "Cartas embaralhadas na mão: [5, 2, 13, 8, 1, 12, 10, 7, 3, 4, 6, 9, 11]\n"
     ]
    }
   ],
   "source": [
    "#Exercicio 2- A\n",
    "# Lista embaralhada representando as 13 cartas de espadas\n",
    "cartas_embaralhadas = [5, 2, 13, 8, 1, 12, 10, 7, 3, 4, 6, 9, 11]\n",
    "# As cartas embaralhadas estão sendo seguradas na \"primeira mão\"\n",
    "primeira_mao = cartas_embaralhadas.copy()\n",
    "print(\"Cartas embaralhadas na mão:\", primeira_mao)"
   ]
  },
  {
   "cell_type": "code",
   "execution_count": 2,
   "id": "267eca4c-1dbf-4503-afb9-4937a552ce4c",
   "metadata": {},
   "outputs": [
    {
     "name": "stdout",
     "output_type": "stream",
     "text": [
      "Carta retirada do topo: 5\n",
      "Cartas restantes na pilha: [2, 13, 8, 1, 12, 10, 7, 3, 4, 6, 9, 11]\n"
     ]
    }
   ],
   "source": [
    "#Exercicio 2-B\n",
    "# Retirando a carta do topo da pilha (primeira carta)\n",
    "carta_visivel = primeira_mao.pop(0)\n",
    "print(\"Carta retirada do topo:\", carta_visivel)\n",
    "print(\"Cartas restantes na pilha:\", primeira_mao)"
   ]
  },
  {
   "cell_type": "code",
   "execution_count": 3,
   "id": "c9caef89-7364-4e1f-b16f-2485ba504dc7",
   "metadata": {},
   "outputs": [
    {
     "name": "stdout",
     "output_type": "stream",
     "text": [
      "Cartas ainda seguradas na mão: [2, 13, 8, 1, 12, 10, 7, 3, 4, 6, 9, 11]\n"
     ]
    }
   ],
   "source": [
    "#Exercicio 2-C\n",
    "# Mantendo as cartas restantes na primeira mão\n",
    "print(\"Cartas ainda seguradas na mão:\", primeira_mao)\n"
   ]
  },
  {
   "cell_type": "code",
   "execution_count": 4,
   "id": "9449ea13-5c23-4206-94e1-fae01145add7",
   "metadata": {},
   "outputs": [
    {
     "name": "stdout",
     "output_type": "stream",
     "text": [
      "Carta inserida na mão ordenada: [5]\n"
     ]
    }
   ],
   "source": [
    "#Exercicio 2-D\n",
    "# Lista que simula a pilha ordenada (mão principal)\n",
    "mao_ordenada = []\n",
    "# Inserir a carta visível no local correto\n",
    "mao_ordenada.append(carta_visivel)\n",
    "mao_ordenada.sort()  # Ordena automaticamente\n",
    "print(\"Carta inserida na mão ordenada:\", mao_ordenada)\n"
   ]
  },
  {
   "cell_type": "code",
   "execution_count": 5,
   "id": "6f51fc2a-4bc8-4709-b189-da65433fb0c9",
   "metadata": {},
   "outputs": [
    {
     "name": "stdout",
     "output_type": "stream",
     "text": [
      "Cartas ordenadas na mão: [1, 2, 3, 4, 5, 6, 7, 8, 9, 10, 11, 12, 13]\n"
     ]
    }
   ],
   "source": [
    "#Exercicio 2-E\n",
    "# Processar todas as cartas na pilha\n",
    "while primeira_mao:  # Enquanto ainda houver cartas na pilha\n",
    "    carta_visivel = primeira_mao.pop(0)  # Retirar a carta do topo\n",
    "    mao_ordenada.append(carta_visivel)  # Inserir na pilha ordenada\n",
    "    mao_ordenada.sort()  # Ordenar novamente após cada inserção\n",
    "\n",
    "print(\"Cartas ordenadas na mão:\", mao_ordenada)"
   ]
  },
  {
   "cell_type": "code",
   "execution_count": 8,
   "id": "90b83bb7-1402-48fe-9958-44611eda80e5",
   "metadata": {},
   "outputs": [
    {
     "name": "stdout",
     "output_type": "stream",
     "text": [
      "Passos necessários para encontrar 8: 4\n"
     ]
    }
   ],
   "source": [
    "#Exercicio 3\n",
    "def busca_linear(array, alvo):\n",
    "    passos = 0  # Contador de passos\n",
    "    for elemento in array:\n",
    "        passos += 1  # Incrementa os passos\n",
    "        if elemento == alvo:\n",
    "            return passos  # Retorna os passos ao encontrar o número\n",
    "    return passos  # Retorna os passos se o número não for encontrado\n",
    "\n",
    "# Testando o algoritmo\n",
    "array_ordenado = [2, 4, 6, 8, 10, 12, 13]\n",
    "numero_buscado = 8\n",
    "\n",
    "passos_necessarios = busca_linear(array_ordenado, numero_buscado)\n",
    "print(f\"Passos necessários para encontrar {numero_buscado}: {passos_necessarios}\")"
   ]
  },
  {
   "cell_type": "code",
   "execution_count": 7,
   "id": "8ccb5668-33a2-45c2-a679-cb90224c5be4",
   "metadata": {},
   "outputs": [
    {
     "name": "stdout",
     "output_type": "stream",
     "text": [
      "Passos necessários para encontrar 8: 1\n"
     ]
    }
   ],
   "source": [
    "#Exercicio 4\n",
    "def busca_binaria(array, alvo):\n",
    "    inicio = 0\n",
    "    fim = len(array) - 1\n",
    "    passos = 0  # Contador de passos\n",
    "    \n",
    "    while inicio <= fim:\n",
    "        passos += 1  # Incrementa o contador a cada iteração\n",
    "        meio = (inicio + fim) // 2  # Encontra o elemento do meio\n",
    "        \n",
    "        if array[meio] == alvo:\n",
    "            return passos  # Retorna os passos ao encontrar o número\n",
    "        elif array[meio] < alvo:\n",
    "            inicio = meio + 1  # Move para a metade direita\n",
    "        else:\n",
    "            fim = meio - 1  # Move para a metade esquerda\n",
    "\n",
    "    return passos  # Retorna os passos caso não encontre o número\n",
    "\n",
    "# Testando o algoritmo\n",
    "array_ordenado = [2, 4, 6, 8, 10, 12, 13]\n",
    "numero_buscado = 8\n",
    "\n",
    "passos_necessarios = busca_binaria(array_ordenado, numero_buscado)\n",
    "print(f\"Passos necessários para encontrar {numero_buscado}: {passos_necessarios}\")"
   ]
  },
  {
   "cell_type": "code",
   "execution_count": 9,
   "id": "93b6cbf9-60a0-4008-ac70-bb4532dfa269",
   "metadata": {},
   "outputs": [
    {
     "name": "stdout",
     "output_type": "stream",
     "text": [
      "O maior número no array é: 9\n"
     ]
    }
   ],
   "source": [
    "#Exercicio 5\n",
    "def greatestNumber(array):\n",
    "    # Inicializa o maior número como o menor valor possível\n",
    "    maior_numero = float('-inf')  # Menor número representável no Python\n",
    "    \n",
    "    for num in array:\n",
    "        if num > maior_numero:  # Verifica se o número atual é maior que o maior conhecido\n",
    "            maior_numero = num  # Atualiza o maior número\n",
    "    \n",
    "    return maior_numero  # Retorna o maior número encontrado\n",
    "\n",
    "# Testando a função\n",
    "array = [5, 3, 9, 1, 4, 9, 7]\n",
    "maior = greatestNumber(array)\n",
    "print(f\"O maior número no array é: {maior}\")"
   ]
  },
  {
   "cell_type": "code",
   "execution_count": 10,
   "id": "676efae3-1a6f-4437-a6a4-17c80b08f722",
   "metadata": {},
   "outputs": [
    {
     "name": "stdout",
     "output_type": "stream",
     "text": [
      "A quantidade de 16 grãos está no quadrado número: 5\n"
     ]
    }
   ],
   "source": [
    "#Exercicio 6-A\n",
    "def encontrar_quadrado(grains):\n",
    "    quadrado = 1  # Começamos pelo primeiro quadrado\n",
    "    total_grains = 1  # Grãos no primeiro quadrado\n",
    "\n",
    "    while total_grains < grains:\n",
    "        quadrado += 1  # Passa para o próximo quadrado\n",
    "        total_grains = 2 ** (quadrado - 1)  # Calcula os grãos no novo quadrado\n",
    "\n",
    "    return quadrado\n",
    "\n",
    "# Testando a função\n",
    "grains = 16\n",
    "resultado = encontrar_quadrado(grains)\n",
    "print(f\"A quantidade de {grains} grãos está no quadrado número: {resultado}\")"
   ]
  },
  {
   "cell_type": "code",
   "execution_count": 12,
   "id": "40d4df83-4aea-4db9-83b4-c39dd6acadcc",
   "metadata": {},
   "outputs": [
    {
     "name": "stdout",
     "output_type": "stream",
     "text": [
      "Strings que começam com 'a': ['apple', 'abacate']\n"
     ]
    }
   ],
   "source": [
    "#Exercicio 7\n",
    "def selectAStrings(array):\n",
    "    newArray = []  # Cria um array vazio para armazenar strings que começam com \"a\"\n",
    "    \n",
    "    for i in range(len(array)):  # Itera por cada elemento no array de entrada\n",
    "        if array[i].startswith(\"a\"):  # Verifica se a string começa com \"a\"\n",
    "            newArray.append(array[i])  # Adiciona ao novo array\n",
    "    \n",
    "    return newArray\n",
    "\n",
    "# Testando a função\n",
    "array_teste = [\"apple\", \"banana\", \"abacate\", \"garapa\", \"breja\", \"uva\"]\n",
    "resultado = selectAStrings(array_teste)\n",
    "print(f\"Strings que começam com 'a': {resultado}\")"
   ]
  },
  {
   "cell_type": "code",
   "execution_count": 13,
   "id": "e14e8cac-8d08-479f-bb67-7562f76843fa",
   "metadata": {},
   "outputs": [
    {
     "name": "stdout",
     "output_type": "stream",
     "text": [
      "Array ordenado: [0, 1, 2, 2, 4, 5, 8]\n"
     ]
    }
   ],
   "source": [
    "#Exercicio 8\n",
    "def cocktail_shaker_sort(array):\n",
    "    n = len(array)\n",
    "    inicio = 0  \n",
    "    fim = n - 1  \n",
    "\n",
    "    while inicio < fim:\n",
    "        #  maior elemento para o final\n",
    "        for i in range(inicio, fim):\n",
    "            if array[i] > array[i + 1]:  #  elementos adjacentes\n",
    "                array[i], array[i + 1] = array[i + 1], array[i]  \n",
    "        \n",
    "        # Reduz o fim, já que o maior elemento está no lugar\n",
    "        fim -= 1\n",
    "        \n",
    "        # Leva o menor elemento para o início\n",
    "        for i in range(fim, inicio, -1):\n",
    "            if array[i] < array[i - 1]:  # elementos adjacentes na direção oposta\n",
    "                array[i], array[i - 1] = array[i - 1], array[i]  # Troca se necessário\n",
    "        \n",
    "        # Aumenta o início, já que o menor elemento está no lugar\n",
    "        inicio += 1\n",
    "\n",
    "    return array\n",
    "\n",
    "# Testando a função\n",
    "array_teste = [5, 1, 4, 2, 8, 0, 2]\n",
    "resultado = cocktail_shaker_sort(array_teste)\n",
    "print(\"Array ordenado:\", resultado)"
   ]
  },
  {
   "cell_type": "code",
   "execution_count": 15,
   "id": "83eb468e-b0b6-4865-89d3-b772c8ea0522",
   "metadata": {},
   "outputs": [
    {
     "name": "stdout",
     "output_type": "stream",
     "text": [
      "Lista original: [64, 34, 25, 12, 22, 11, 90]\n",
      "Lista ordenada: [11, 12, 22, 25, 34, 64, 90]\n",
      "----------------------------------------\n",
      "Lista original: [5, 1, 4, 2, 8]\n",
      "Lista ordenada: [1, 2, 4, 5, 8]\n",
      "----------------------------------------\n",
      "Lista original: [1, 2, 3, 4, 5]\n",
      "Lista ordenada: [1, 2, 3, 4, 5]\n",
      "----------------------------------------\n",
      "Lista original: [10, 9, 8, 7, 6]\n",
      "Lista ordenada: [6, 7, 8, 9, 10]\n",
      "----------------------------------------\n",
      "Lista original: [4]\n",
      "Lista ordenada: [4]\n",
      "----------------------------------------\n",
      "Lista original: []\n",
      "Lista ordenada: []\n",
      "----------------------------------------\n"
     ]
    }
   ],
   "source": [
    "#Exercicio 9\n",
    "def bubble_sort(array):\n",
    "    n = len(array)  # Tamanho da lista\n",
    "    for i in range(n):  # Passa por toda a lista n vezes\n",
    "        for j in range(0, n - i - 1):  # Passa até o último elemento não ordenado\n",
    "            if array[j] > array[j + 1]:  # Compara elementos adjacentes\n",
    "                # Troca os elementos se estiverem fora de ordem\n",
    "                array[j], array[j + 1] = array[j + 1], array[j]\n",
    "    return array\n",
    "    \n",
    "# Testando com diferentes listas\n",
    "listas_para_testar = [\n",
    "    [64, 34, 25, 12, 22, 11, 90],\n",
    "    [5, 1, 4, 2, 8],\n",
    "    [1, 2, 3, 4, 5],\n",
    "    [10, 9, 8, 7, 6],\n",
    "    [4],\n",
    "    []\n",
    "]\n",
    "\n",
    "for lista in listas_para_testar:\n",
    "    print(f\"Lista original: {lista}\")\n",
    "    ordenada = bubble_sort(lista.copy())  # Ordena uma cópia da lista\n",
    "    print(f\"Lista ordenada: {ordenada}\")\n",
    "    print(\"-\" * 40)\n"
   ]
  },
  {
   "cell_type": "code",
   "execution_count": 16,
   "id": "460a91ff-4f13-4c96-95a5-ca21eb3c1f9f",
   "metadata": {},
   "outputs": [
    {
     "name": "stdout",
     "output_type": "stream",
     "text": [
      "Lista original: ['banana', 'apple', 'cherry', 'date', 'fig', 'grape']\n",
      "Lista ordenada: ['apple', 'banana', 'cherry', 'date', 'fig', 'grape']\n",
      "----------------------------------------\n",
      "Lista original: ['zebra', 'monkey', 'lion', 'elephant', 'cat', 'ant']\n",
      "Lista ordenada: ['ant', 'cat', 'elephant', 'lion', 'monkey', 'zebra']\n",
      "----------------------------------------\n",
      "Lista original: ['apple', 'banana', 'carrot', 'date']\n",
      "Lista ordenada: ['apple', 'banana', 'carrot', 'date']\n",
      "----------------------------------------\n",
      "Lista original: ['same', 'same', 'same']\n",
      "Lista ordenada: ['same', 'same', 'same']\n",
      "----------------------------------------\n",
      "Lista original: ['']\n",
      "Lista ordenada: ['']\n",
      "----------------------------------------\n",
      "Lista original: []\n",
      "Lista ordenada: []\n",
      "----------------------------------------\n"
     ]
    }
   ],
   "source": [
    "#Exercicio 10\n",
    "def bubble_sort_strings(array):\n",
    "    n = len(array)  # Tamanho da lista\n",
    "    for i in range(n):  # Passa por toda a lista n vezes\n",
    "        for j in range(0, n - i - 1):  # Passa até o último elemento não ordenado\n",
    "            if array[j] > array[j + 1]:  # Compara strings adjacentes (ordem alfabética)\n",
    "                # Troca os elementos se estiverem fora de ordem\n",
    "                array[j], array[j + 1] = array[j + 1], array[j]\n",
    "    return array\n",
    "# Listas de strings para testar\n",
    "listas_para_testar = [\n",
    "    [\"banana\", \"apple\", \"cherry\", \"date\", \"fig\", \"grape\"],\n",
    "    [\"zebra\", \"monkey\", \"lion\", \"elephant\", \"cat\", \"ant\"],\n",
    "    [\"apple\", \"banana\", \"carrot\", \"date\"],\n",
    "    [\"same\", \"same\", \"same\"],\n",
    "    [\"\"],\n",
    "    []\n",
    "]\n",
    "\n",
    "for lista in listas_para_testar:\n",
    "    print(f\"Lista original: {lista}\")\n",
    "    ordenada = bubble_sort_strings(lista.copy())  # Ordena uma cópia da lista\n",
    "    print(f\"Lista ordenada: {ordenada}\")\n",
    "    print(\"-\" * 40)"
   ]
  },
  {
   "cell_type": "code",
   "execution_count": null,
   "id": "be25c011-c6e5-4d50-92c7-d4570d8f1656",
   "metadata": {},
   "outputs": [],
   "source": []
  }
 ],
 "metadata": {
  "kernelspec": {
   "display_name": "Python 3 (ipykernel)",
   "language": "python",
   "name": "python3"
  },
  "language_info": {
   "codemirror_mode": {
    "name": "ipython",
    "version": 3
   },
   "file_extension": ".py",
   "mimetype": "text/x-python",
   "name": "python",
   "nbconvert_exporter": "python",
   "pygments_lexer": "ipython3",
   "version": "3.9.13"
  }
 },
 "nbformat": 4,
 "nbformat_minor": 5
}
